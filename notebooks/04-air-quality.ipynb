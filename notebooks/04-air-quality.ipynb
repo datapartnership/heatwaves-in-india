{
 "cells": [
  {
   "cell_type": "markdown",
   "metadata": {},
   "source": [
    "# Ambient Air Quality in Kochi and Trivandrum\n",
    "\n",
    "Air pollution is one of the greatest environmental risk to health, contributing to respiratory and cardiovascular diseases, cancer, and premature death. Tracking air pollution levels can help governments and policy makers make informed policies and decisions to improve public and environmental health. \n",
    "\n",
    "There are a few common air pollutants that are frequently monitored as a proxy to achieving good air quality in cities. <br>\n",
    "\n",
    "<b>Particulate Matter (PM)</b>\n",
    "- RSPM/PM10/PM2.5: PM is a common proxy indicator for air pollution. There is strong evidence for the negative health impacts associated with exposure to this pollutant. The major components of PM are sulfates, nitrates, ammonia, sodium chloride, black carbon, mineral dust and water. PM10 are for particles with a diameter of 10 micrometers or less, while PM2.5 are for fine particles with a diameter of 2.5 micrometers or less. These are particularly harmful as they can penetrate deep into the lungs and even enter the bloodstream.\n",
    "\n",
    "<b>Gaseous Pollutants</b>\n",
    "- SO<sub>2</sub>: SO<sub>2</sub> is a colourless gas with a sharp odour. It is produced from the burning of fossil fuels (coal and oil) and the smelting of mineral ores that contain sulfur.\n",
    "- NO<sub>2</sub>: NO<sub>2</sub> is a gas that is commonly released from the combustion of fuels in the transportation and industrial sectors.\n",
    "\n",
    "## Data\n",
    "\n",
    "## Air Pollutant Data\n",
    "\n",
    "The data was downloaded from www.kerala.data.gov and is available for the years 1987 to 2002 and 2005 to 2015. Data for the years 2003 and 2004 are not available. Each year is recorded in a separate downloaded EXCEL file. <br>\n",
    "Each file generally included:\n",
    "- The station code where the data was recorded (Stn Code)\n",
    "- Date of record (Sampling Date)\n",
    "- Place of record (City/Town/Village Area)\n",
    "- Agency \n",
    "- Type of location\n",
    "- SO<sub>2</sub> values\n",
    "- NO<sub>2</sub> values\n",
    "- RSPM/PM10 values\n",
    "- SPM values\n",
    "- PM2.5 values\n",
    "\n",
    "The completeness of data varies by year and city.\n",
    "\n",
    "\n",
    "## Methodology\n",
    "\n",
    "Data for 27 years were concatenated and pre-processed. Columns were standardized whenever possible. However, as the recording format varies from year to year, some human errors may have occurred in the process of standardizing the data. Due to lack of data for some columns, only SO<sub>2</sub>, NO<sub>2</sub> and RSPM/PM10 values were used for analysis and visualization. It is also important to note that data quality varies across cities and years.\n",
    "\n",
    "## A look at the data\n",
    "\n"
   ]
  },
  {
   "cell_type": "code",
   "execution_count": 1,
   "metadata": {
    "tags": [
     "remove-input"
    ]
   },
   "outputs": [],
   "source": [
    "import pandas as pd\n",
    "import matplotlib.pyplot as plt\n",
    "import base64\n",
    "from io import BytesIO\n",
    "import dash\n",
    "from dash import dcc, html\n",
    "import dash_bootstrap_components as dbc\n",
    "from dash.dependencies import Input, Output\n",
    "import ace as tools\n",
    "from dash import jupyter_dash\n"
   ]
  },
  {
   "cell_type": "markdown",
   "metadata": {},
   "source": [
    "#### Columns within the data (First five entries)"
   ]
  },
  {
   "cell_type": "code",
   "execution_count": 2,
   "metadata": {
    "tags": [
     "remove-input"
    ]
   },
   "outputs": [
    {
     "data": {
      "text/html": [
       "<div>\n",
       "<style scoped>\n",
       "    .dataframe tbody tr th:only-of-type {\n",
       "        vertical-align: middle;\n",
       "    }\n",
       "\n",
       "    .dataframe tbody tr th {\n",
       "        vertical-align: top;\n",
       "    }\n",
       "\n",
       "    .dataframe thead th {\n",
       "        text-align: right;\n",
       "    }\n",
       "</style>\n",
       "<table border=\"1\" class=\"dataframe\">\n",
       "  <thead>\n",
       "    <tr style=\"text-align: right;\">\n",
       "      <th></th>\n",
       "      <th>Stn Code</th>\n",
       "      <th>Sampling Date</th>\n",
       "      <th>Month</th>\n",
       "      <th>Year</th>\n",
       "      <th>State</th>\n",
       "      <th>City/Town/Village/Area</th>\n",
       "      <th>Agency</th>\n",
       "      <th>Type of Location</th>\n",
       "      <th>SO2</th>\n",
       "      <th>NO2</th>\n",
       "      <th>RSPM/PM10</th>\n",
       "      <th>SPM</th>\n",
       "      <th>Location of Monitoring Station</th>\n",
       "      <th>PM 2.5</th>\n",
       "    </tr>\n",
       "  </thead>\n",
       "  <tbody>\n",
       "    <tr>\n",
       "      <th>0</th>\n",
       "      <td>29.0</td>\n",
       "      <td>10/3/1987</td>\n",
       "      <td>3.0</td>\n",
       "      <td>1987</td>\n",
       "      <td>Kerala</td>\n",
       "      <td>Cochin</td>\n",
       "      <td>Kerala Pollution Control Board</td>\n",
       "      <td>Industrial</td>\n",
       "      <td>NaN</td>\n",
       "      <td>2.9</td>\n",
       "      <td>NaN</td>\n",
       "      <td>NaN</td>\n",
       "      <td>NaN</td>\n",
       "      <td>NaN</td>\n",
       "    </tr>\n",
       "    <tr>\n",
       "      <th>1</th>\n",
       "      <td>30.0</td>\n",
       "      <td>4/5/1988</td>\n",
       "      <td>5.0</td>\n",
       "      <td>1988</td>\n",
       "      <td>Kerala</td>\n",
       "      <td>Cochin</td>\n",
       "      <td>Kerala Pollution Control Board</td>\n",
       "      <td>Industrial Area</td>\n",
       "      <td>NaN</td>\n",
       "      <td>NaN</td>\n",
       "      <td>NaN</td>\n",
       "      <td>79.0</td>\n",
       "      <td>NaN</td>\n",
       "      <td>NaN</td>\n",
       "    </tr>\n",
       "    <tr>\n",
       "      <th>2</th>\n",
       "      <td>31.0</td>\n",
       "      <td>4/5/1988</td>\n",
       "      <td>5.0</td>\n",
       "      <td>1988</td>\n",
       "      <td>Kerala</td>\n",
       "      <td>Cochin</td>\n",
       "      <td>Kerala Pollution Control Board</td>\n",
       "      <td>Industrial Area</td>\n",
       "      <td>NaN</td>\n",
       "      <td>NaN</td>\n",
       "      <td>NaN</td>\n",
       "      <td>88.0</td>\n",
       "      <td>NaN</td>\n",
       "      <td>NaN</td>\n",
       "    </tr>\n",
       "    <tr>\n",
       "      <th>3</th>\n",
       "      <td>32.0</td>\n",
       "      <td>4/5/1988</td>\n",
       "      <td>5.0</td>\n",
       "      <td>1988</td>\n",
       "      <td>Kerala</td>\n",
       "      <td>Cochin</td>\n",
       "      <td>Kerala Pollution Control Board</td>\n",
       "      <td>Industrial Area</td>\n",
       "      <td>NaN</td>\n",
       "      <td>NaN</td>\n",
       "      <td>NaN</td>\n",
       "      <td>98.0</td>\n",
       "      <td>NaN</td>\n",
       "      <td>NaN</td>\n",
       "    </tr>\n",
       "    <tr>\n",
       "      <th>4</th>\n",
       "      <td>33.0</td>\n",
       "      <td>4/5/1988</td>\n",
       "      <td>5.0</td>\n",
       "      <td>1988</td>\n",
       "      <td>Kerala</td>\n",
       "      <td>Cochin</td>\n",
       "      <td>Kerala Pollution Control Board</td>\n",
       "      <td>NaN</td>\n",
       "      <td>NaN</td>\n",
       "      <td>NaN</td>\n",
       "      <td>NaN</td>\n",
       "      <td>88.0</td>\n",
       "      <td>NaN</td>\n",
       "      <td>NaN</td>\n",
       "    </tr>\n",
       "  </tbody>\n",
       "</table>\n",
       "</div>"
      ],
      "text/plain": [
       "   Stn Code Sampling Date  Month  Year   State City/Town/Village/Area  \\\n",
       "0      29.0     10/3/1987    3.0  1987  Kerala                 Cochin   \n",
       "1      30.0      4/5/1988    5.0  1988  Kerala                 Cochin   \n",
       "2      31.0      4/5/1988    5.0  1988  Kerala                 Cochin   \n",
       "3      32.0      4/5/1988    5.0  1988  Kerala                 Cochin   \n",
       "4      33.0      4/5/1988    5.0  1988  Kerala                 Cochin   \n",
       "\n",
       "                           Agency Type of Location  SO2  NO2  RSPM/PM10   SPM  \\\n",
       "0  Kerala Pollution Control Board       Industrial  NaN  2.9        NaN   NaN   \n",
       "1  Kerala Pollution Control Board  Industrial Area  NaN  NaN        NaN  79.0   \n",
       "2  Kerala Pollution Control Board  Industrial Area  NaN  NaN        NaN  88.0   \n",
       "3  Kerala Pollution Control Board  Industrial Area  NaN  NaN        NaN  98.0   \n",
       "4  Kerala Pollution Control Board              NaN  NaN  NaN        NaN  88.0   \n",
       "\n",
       "  Location of Monitoring Station  PM 2.5  \n",
       "0                            NaN     NaN  \n",
       "1                            NaN     NaN  \n",
       "2                            NaN     NaN  \n",
       "3                            NaN     NaN  \n",
       "4                            NaN     NaN  "
      ]
     },
     "execution_count": 2,
     "metadata": {},
     "output_type": "execute_result"
    }
   ],
   "source": [
    "data = pd.read_csv('../data/combined_airquality_edit.csv')\n",
    "data.head()"
   ]
  },
  {
   "cell_type": "markdown",
   "metadata": {},
   "source": [
    "#### All cities available in dataset"
   ]
  },
  {
   "cell_type": "markdown",
   "metadata": {},
   "source": [
    "Some cities are duplicated (E.g. 'Cochi' and 'Kochi' are the same cities) <br>\n",
    "Data preprocessing:\n",
    "- Renaming duplicated cities to unified names\n",
    "- Removing null values\n",
    "- Standardizing date format\n",
    "- Aggregating data by yearly average"
   ]
  },
  {
   "cell_type": "code",
   "execution_count": 3,
   "metadata": {
    "tags": [
     "remove-input"
    ]
   },
   "outputs": [
    {
     "data": {
      "text/plain": [
       "['Cochin',\n",
       " 'Kotttayam',\n",
       " 'Kottayam',\n",
       " 'Kozhikode',\n",
       " 'Trivendrum',\n",
       " 'Palakkad',\n",
       " 'Kochi',\n",
       " 'Trivandrum',\n",
       " 'Alappuzha',\n",
       " 'Kollam',\n",
       " 'Malappuram',\n",
       " 'Thiruvananthapuram',\n",
       " 'Pathanamthitta',\n",
       " 'Thissur',\n",
       " 'Wayanad']"
      ]
     },
     "execution_count": 3,
     "metadata": {},
     "output_type": "execute_result"
    }
   ],
   "source": [
    "# All the cities/regions available\n",
    "data['City/Town/Village/Area'].unique().tolist()"
   ]
  },
  {
   "cell_type": "code",
   "execution_count": 4,
   "metadata": {
    "tags": [
     "remove-input"
    ]
   },
   "outputs": [],
   "source": [
    "# Noticed above that some cities are duplicated (e.g. Cochin and Kochi are used interchangeably)\n",
    "# Data preprocessing\n",
    "data['City/Town/Village/Area'] = data['City/Town/Village/Area'].replace({\n",
    "    'Kotttayam': 'Kottayam',\n",
    "    'Trivendrum': 'Trivandrum',\n",
    "    'Cochin': 'Kochi',\n",
    "    'Thiruvananthapuram': 'Trivandrum'\n",
    "})\n"
   ]
  },
  {
   "cell_type": "code",
   "execution_count": 5,
   "metadata": {
    "tags": [
     "remove-input"
    ]
   },
   "outputs": [],
   "source": [
    "# Filter data for Kochi and Trivandrum\n",
    "filtered_data = data[data['City/Town/Village/Area'].isin(['Kochi', 'Trivandrum'])].copy()\n",
    "\n",
    "filtered_data = filtered_data[['City/Town/Village/Area', 'Stn Code', 'Month', 'Year', 'SO2', 'NO2', 'RSPM/PM10', 'SPM', 'PM 2.5']]\n",
    "\n",
    "# Handle missing values in 'Month' and 'Year' columns\n",
    "filtered_data = filtered_data.dropna(subset=['Month', 'Year'])\n",
    "\n",
    "# Convert 'Month' column to numeric, coercing errors to NaN\n",
    "filtered_data['Month'] = pd.to_numeric(filtered_data['Month'], errors='coerce')\n",
    "\n",
    "# Drop rows where 'Month' conversion resulted in NaN\n",
    "filtered_data = filtered_data.dropna(subset=['Month'])\n",
    "\n",
    "# Convert 'Year' column to integers\n",
    "filtered_data['Year'] = filtered_data['Year'].astype(int)\n",
    "filtered_data['Month'] = filtered_data['Month'].astype(int)\n",
    "\n",
    "# Create a datetime column from 'Month' and 'Year'\n",
    "filtered_data['Date'] = pd.to_datetime(filtered_data[['Year', 'Month']].assign(DAY=1))\n",
    "\n",
    "# Filter the data for years from 2000 onwards\n",
    "filtered_data = filtered_data[filtered_data['Date'].dt.year >= 2005]\n",
    "\n",
    "# Ensure NO2, PM10, and PM2.5 are numeric\n",
    "filtered_data['NO2'] = pd.to_numeric(filtered_data['NO2'], errors='coerce')\n",
    "filtered_data['RSPM/PM10'] = pd.to_numeric(filtered_data['RSPM/PM10'], errors='coerce')\n",
    "filtered_data['SO2'] = pd.to_numeric(filtered_data['SO2'], errors='coerce')\n",
    "\n",
    "# Interpolate the missing values\n",
    "filtered_data.set_index('Date', inplace=True)\n",
    "filtered_data['NO2'] = filtered_data['NO2'].interpolate(method='time')\n",
    "filtered_data['RSPM/PM10'] = filtered_data['RSPM/PM10'].interpolate(method='time')\n",
    "filtered_data['SO2'] = filtered_data['SO2'].interpolate(method='time')\n",
    "\n",
    "# Resample the data by month\n",
    "filtered_data = filtered_data.groupby('City/Town/Village/Area').resample('ME').mean()"
   ]
  },
  {
   "cell_type": "code",
   "execution_count": 6,
   "metadata": {
    "tags": [
     "remove-input"
    ]
   },
   "outputs": [
    {
     "data": {
      "text/html": [
       "\n",
       "        <iframe\n",
       "            width=\"100%\"\n",
       "            height=\"650\"\n",
       "            src=\"http://127.0.0.1:8050/\"\n",
       "            frameborder=\"0\"\n",
       "            allowfullscreen\n",
       "            \n",
       "        ></iframe>\n",
       "        "
      ],
      "text/plain": [
       "<IPython.lib.display.IFrame at 0x14a49065090>"
      ]
     },
     "metadata": {},
     "output_type": "display_data"
    }
   ],
   "source": [
    "# Initialize the Dash app\n",
    "app = dash.Dash(__name__, external_stylesheets=[dbc.themes.BOOTSTRAP])\n",
    "\n",
    "#server = app.server\n",
    "\n",
    "# App layout\n",
    "app.layout = dbc.Container([\n",
    "    dbc.Row([\n",
    "        dbc.Col(html.H1(\"Air Quality Dashboard for Kochi and Trivandrum\"), className=\"mb-2\")\n",
    "    ]),\n",
    "    dbc.Row([\n",
    "        dbc.Col(dcc.Dropdown(\n",
    "            id='city-dropdown',\n",
    "            options=[\n",
    "                {'label': 'Kochi', 'value': 'Kochi'},\n",
    "                {'label': 'Trivandrum', 'value': 'Trivandrum'}\n",
    "            ],\n",
    "            value='Kochi', #default city \n",
    "            clearable=False\n",
    "        ), width=6)\n",
    "    ]),\n",
    "    dbc.Row([\n",
    "        dbc.Col(dcc.Graph(id='no2-plot'), width=12)\n",
    "    ]),\n",
    "    dbc.Row([\n",
    "        dbc.Col(dcc.Graph(id='pm10-plot'), width=12)\n",
    "    ]),\n",
    "    dbc.Row([\n",
    "        dbc.Col(dcc.Graph(id='so2-plot'), width=12)\n",
    "    ]),\n",
    "])\n",
    "\n",
    "# Callback to update plots\n",
    "@app.callback(\n",
    "    [Output('no2-plot', 'figure'),\n",
    "     Output('pm10-plot', 'figure'),\n",
    "     Output('so2-plot', 'figure')],\n",
    "    [Input('city-dropdown', 'value')]\n",
    ")\n",
    "def update_plots(selected_city):\n",
    "    city_data = filtered_data.loc[selected_city]\n",
    "    \n",
    "    no2_fig = {\n",
    "        'data': [{'x': city_data.index, 'y': city_data['NO2'], 'type': 'line', 'name': 'NO2'}],\n",
    "        'layout': {'title': f'NO2 Levels in {selected_city} (2005 Onwards)', 'yaxis': {'title': 'NO2'}, 'xaxis': {'title': 'Date'}}\n",
    "    }\n",
    "\n",
    "    pm10_fig = {\n",
    "        'data': [{'x': city_data.index, 'y': city_data['RSPM/PM10'], 'type': 'line', 'name': 'PM10'}],\n",
    "        'layout': {'title': f'PM10 Levels in {selected_city} (2005 Onwards)', 'yaxis': {'title': 'PM10'}, 'xaxis': {'title': 'Date'}}\n",
    "    }\n",
    "\n",
    "    so2_fig = {\n",
    "        'data': [{'x': city_data.index, 'y': city_data['SO2'], 'type': 'line', 'name': 'SO2'}],\n",
    "        'layout': {'title': f'SO2 Levels in {selected_city} (2005 Onwards)', 'yaxis': {'title': 'SO2'}, 'xaxis': {'title': 'Date'}}\n",
    "    }\n",
    "\n",
    "    return no2_fig, pm10_fig, so2_fig\n",
    "\n",
    "# Run the app\n",
    "app.run_server(mode=\"inline\", debug=False)\n"
   ]
  },
  {
   "cell_type": "markdown",
   "metadata": {},
   "source": [
    "### Observations\n",
    "\n",
    "- Kochi has been managing PM 10 and SO<sub>2</sub> levels well, but NO<sub>2</sub> levels are on the rise, especially since mid-2015.\n",
    "- Air Quality is generally worse in Trivandrum than Kochi."
   ]
  },
  {
   "cell_type": "markdown",
   "metadata": {},
   "source": [
    "## Using Machine Learning to predict air pollution levels (NO2) for future years in Kochi"
   ]
  },
  {
   "cell_type": "markdown",
   "metadata": {},
   "source": [
    "### Random Forest Regressor"
   ]
  },
  {
   "cell_type": "code",
   "execution_count": 7,
   "metadata": {
    "tags": [
     "remove-input"
    ]
   },
   "outputs": [],
   "source": [
    "import pandas as pd\n",
    "import numpy as np\n",
    "from sklearn.model_selection import train_test_split\n",
    "from sklearn.ensemble import RandomForestRegressor\n",
    "from sklearn.metrics import mean_squared_error, r2_score\n",
    "import matplotlib.pyplot as plt\n",
    "from sklearn.model_selection import cross_val_predict"
   ]
  },
  {
   "cell_type": "code",
   "execution_count": 8,
   "metadata": {
    "tags": [
     "remove-input"
    ]
   },
   "outputs": [
    {
     "data": {
      "text/html": [
       "<div>\n",
       "<style scoped>\n",
       "    .dataframe tbody tr th:only-of-type {\n",
       "        vertical-align: middle;\n",
       "    }\n",
       "\n",
       "    .dataframe tbody tr th {\n",
       "        vertical-align: top;\n",
       "    }\n",
       "\n",
       "    .dataframe thead th {\n",
       "        text-align: right;\n",
       "    }\n",
       "</style>\n",
       "<table border=\"1\" class=\"dataframe\">\n",
       "  <thead>\n",
       "    <tr style=\"text-align: right;\">\n",
       "      <th></th>\n",
       "      <th>Stn Code</th>\n",
       "      <th>Sampling Date</th>\n",
       "      <th>Month</th>\n",
       "      <th>Year</th>\n",
       "      <th>State</th>\n",
       "      <th>City/Town/Village/Area</th>\n",
       "      <th>Agency</th>\n",
       "      <th>Type of Location</th>\n",
       "      <th>SO2</th>\n",
       "      <th>NO2</th>\n",
       "      <th>RSPM/PM10</th>\n",
       "      <th>SPM</th>\n",
       "      <th>Location of Monitoring Station</th>\n",
       "      <th>PM 2.5</th>\n",
       "    </tr>\n",
       "  </thead>\n",
       "  <tbody>\n",
       "    <tr>\n",
       "      <th>0</th>\n",
       "      <td>29.0</td>\n",
       "      <td>10/3/1987</td>\n",
       "      <td>3.0</td>\n",
       "      <td>1987</td>\n",
       "      <td>Kerala</td>\n",
       "      <td>Cochin</td>\n",
       "      <td>Kerala Pollution Control Board</td>\n",
       "      <td>Industrial</td>\n",
       "      <td>NaN</td>\n",
       "      <td>2.9</td>\n",
       "      <td>NaN</td>\n",
       "      <td>NaN</td>\n",
       "      <td>NaN</td>\n",
       "      <td>NaN</td>\n",
       "    </tr>\n",
       "    <tr>\n",
       "      <th>1</th>\n",
       "      <td>30.0</td>\n",
       "      <td>4/5/1988</td>\n",
       "      <td>5.0</td>\n",
       "      <td>1988</td>\n",
       "      <td>Kerala</td>\n",
       "      <td>Cochin</td>\n",
       "      <td>Kerala Pollution Control Board</td>\n",
       "      <td>Industrial Area</td>\n",
       "      <td>NaN</td>\n",
       "      <td>NaN</td>\n",
       "      <td>NaN</td>\n",
       "      <td>79.0</td>\n",
       "      <td>NaN</td>\n",
       "      <td>NaN</td>\n",
       "    </tr>\n",
       "    <tr>\n",
       "      <th>2</th>\n",
       "      <td>31.0</td>\n",
       "      <td>4/5/1988</td>\n",
       "      <td>5.0</td>\n",
       "      <td>1988</td>\n",
       "      <td>Kerala</td>\n",
       "      <td>Cochin</td>\n",
       "      <td>Kerala Pollution Control Board</td>\n",
       "      <td>Industrial Area</td>\n",
       "      <td>NaN</td>\n",
       "      <td>NaN</td>\n",
       "      <td>NaN</td>\n",
       "      <td>88.0</td>\n",
       "      <td>NaN</td>\n",
       "      <td>NaN</td>\n",
       "    </tr>\n",
       "    <tr>\n",
       "      <th>3</th>\n",
       "      <td>32.0</td>\n",
       "      <td>4/5/1988</td>\n",
       "      <td>5.0</td>\n",
       "      <td>1988</td>\n",
       "      <td>Kerala</td>\n",
       "      <td>Cochin</td>\n",
       "      <td>Kerala Pollution Control Board</td>\n",
       "      <td>Industrial Area</td>\n",
       "      <td>NaN</td>\n",
       "      <td>NaN</td>\n",
       "      <td>NaN</td>\n",
       "      <td>98.0</td>\n",
       "      <td>NaN</td>\n",
       "      <td>NaN</td>\n",
       "    </tr>\n",
       "    <tr>\n",
       "      <th>4</th>\n",
       "      <td>33.0</td>\n",
       "      <td>4/5/1988</td>\n",
       "      <td>5.0</td>\n",
       "      <td>1988</td>\n",
       "      <td>Kerala</td>\n",
       "      <td>Cochin</td>\n",
       "      <td>Kerala Pollution Control Board</td>\n",
       "      <td>NaN</td>\n",
       "      <td>NaN</td>\n",
       "      <td>NaN</td>\n",
       "      <td>NaN</td>\n",
       "      <td>88.0</td>\n",
       "      <td>NaN</td>\n",
       "      <td>NaN</td>\n",
       "    </tr>\n",
       "  </tbody>\n",
       "</table>\n",
       "</div>"
      ],
      "text/plain": [
       "   Stn Code Sampling Date  Month  Year   State City/Town/Village/Area  \\\n",
       "0      29.0     10/3/1987    3.0  1987  Kerala                 Cochin   \n",
       "1      30.0      4/5/1988    5.0  1988  Kerala                 Cochin   \n",
       "2      31.0      4/5/1988    5.0  1988  Kerala                 Cochin   \n",
       "3      32.0      4/5/1988    5.0  1988  Kerala                 Cochin   \n",
       "4      33.0      4/5/1988    5.0  1988  Kerala                 Cochin   \n",
       "\n",
       "                           Agency Type of Location  SO2  NO2  RSPM/PM10   SPM  \\\n",
       "0  Kerala Pollution Control Board       Industrial  NaN  2.9        NaN   NaN   \n",
       "1  Kerala Pollution Control Board  Industrial Area  NaN  NaN        NaN  79.0   \n",
       "2  Kerala Pollution Control Board  Industrial Area  NaN  NaN        NaN  88.0   \n",
       "3  Kerala Pollution Control Board  Industrial Area  NaN  NaN        NaN  98.0   \n",
       "4  Kerala Pollution Control Board              NaN  NaN  NaN        NaN  88.0   \n",
       "\n",
       "  Location of Monitoring Station  PM 2.5  \n",
       "0                            NaN     NaN  \n",
       "1                            NaN     NaN  \n",
       "2                            NaN     NaN  \n",
       "3                            NaN     NaN  \n",
       "4                            NaN     NaN  "
      ]
     },
     "execution_count": 8,
     "metadata": {},
     "output_type": "execute_result"
    }
   ],
   "source": [
    "data = pd.read_csv('../data/combined_airquality_edit.csv')\n",
    "data.head()"
   ]
  },
  {
   "cell_type": "code",
   "execution_count": 9,
   "metadata": {
    "tags": [
     "remove-input",
     "remove-output"
    ]
   },
   "outputs": [
    {
     "name": "stdout",
     "output_type": "stream",
     "text": [
      "Unique years in the dataset: [2005 2006 2007 2008 2009 2010 2011 2012 2013 2014 2015]\n"
     ]
    },
    {
     "data": {
      "text/html": [
       "<div>\n",
       "<style scoped>\n",
       "    .dataframe tbody tr th:only-of-type {\n",
       "        vertical-align: middle;\n",
       "    }\n",
       "\n",
       "    .dataframe tbody tr th {\n",
       "        vertical-align: top;\n",
       "    }\n",
       "\n",
       "    .dataframe thead th {\n",
       "        text-align: right;\n",
       "    }\n",
       "</style>\n",
       "<table border=\"1\" class=\"dataframe\">\n",
       "  <thead>\n",
       "    <tr style=\"text-align: right;\">\n",
       "      <th></th>\n",
       "      <th>Year</th>\n",
       "      <th>NO2</th>\n",
       "    </tr>\n",
       "  </thead>\n",
       "  <tbody>\n",
       "    <tr>\n",
       "      <th>0</th>\n",
       "      <td>2005</td>\n",
       "      <td>13.807778</td>\n",
       "    </tr>\n",
       "    <tr>\n",
       "      <th>1</th>\n",
       "      <td>2006</td>\n",
       "      <td>10.889806</td>\n",
       "    </tr>\n",
       "    <tr>\n",
       "      <th>2</th>\n",
       "      <td>2007</td>\n",
       "      <td>12.219355</td>\n",
       "    </tr>\n",
       "    <tr>\n",
       "      <th>3</th>\n",
       "      <td>2008</td>\n",
       "      <td>14.312431</td>\n",
       "    </tr>\n",
       "    <tr>\n",
       "      <th>4</th>\n",
       "      <td>2009</td>\n",
       "      <td>12.916859</td>\n",
       "    </tr>\n",
       "  </tbody>\n",
       "</table>\n",
       "</div>"
      ],
      "text/plain": [
       "   Year        NO2\n",
       "0  2005  13.807778\n",
       "1  2006  10.889806\n",
       "2  2007  12.219355\n",
       "3  2008  14.312431\n",
       "4  2009  12.916859"
      ]
     },
     "execution_count": 9,
     "metadata": {},
     "output_type": "execute_result"
    }
   ],
   "source": [
    "data['City/Town/Village/Area'] = data['City/Town/Village/Area'].replace({\n",
    "    'Kotttayam': 'Kottayam',\n",
    "    'Trivendrum': 'Trivandrum',\n",
    "    'Cochin': 'Kochi',\n",
    "    'Thiruvananthapuram': 'Trivandrum'\n",
    "})\n",
    "\n",
    "# Filter data for Kochi\n",
    "kochi_data = data[data['City/Town/Village/Area'] == 'Kochi'].copy()\n",
    "\n",
    "kochi_data = kochi_data[['City/Town/Village/Area', 'Month', 'Year', 'NO2']]\n",
    "\n",
    "# Handle missing values in 'Month', 'Year', and 'NO2' columns\n",
    "kochi_data = kochi_data.dropna(subset=['Month', 'Year', 'NO2'])\n",
    "\n",
    "# Convert 'Month' column to numeric, coercing errors to NaN\n",
    "kochi_data['Month'] = pd.to_numeric(kochi_data['Month'], errors='coerce')\n",
    "\n",
    "# Drop rows where 'Month' conversion resulted in NaN\n",
    "kochi_data = kochi_data.dropna(subset=['Month'])\n",
    "\n",
    "# Convert 'Year' column to integers\n",
    "kochi_data['Year'] = kochi_data['Year'].astype(int)\n",
    "kochi_data['Month'] = kochi_data['Month'].astype(int)\n",
    "\n",
    "# Create a datetime column from 'Month' and 'Year'\n",
    "kochi_data['Date'] = pd.to_datetime(kochi_data[['Year', 'Month']].assign(DAY=1))\n",
    "\n",
    "# Filter the data for years from 2005 onwards\n",
    "kochi_data = kochi_data[kochi_data['Date'].dt.year >= 2005]\n",
    "\n",
    "# Ensure NO2 is numeric\n",
    "kochi_data['NO2'] = pd.to_numeric(kochi_data['NO2'], errors='coerce')\n",
    "\n",
    "# Interpolate the missing values\n",
    "kochi_data.set_index('Date', inplace=True)\n",
    "kochi_data['NO2'] = kochi_data['NO2'].interpolate(method='time')\n",
    "\n",
    "# Reset index for further processing\n",
    "kochi_data.reset_index(inplace=True)\n",
    "kochi_data['Year'] = kochi_data['Date'].dt.year\n",
    "\n",
    "# Aggregate data by year\n",
    "yearly_kochi_data = kochi_data.groupby('Year').agg({'NO2': 'mean'}).reset_index()\n",
    "\n",
    "# Check the unique years in the filtered data\n",
    "unique_years = yearly_kochi_data['Year'].unique()\n",
    "print(\"Unique years in the dataset:\", unique_years)\n",
    "\n",
    "yearly_kochi_data.head()"
   ]
  },
  {
   "cell_type": "code",
   "execution_count": 10,
   "metadata": {
    "tags": [
     "remove-input",
     "remove-output"
    ]
   },
   "outputs": [
    {
     "name": "stdout",
     "output_type": "stream",
     "text": [
      "X:\n",
      "    Year\n",
      "0  2005\n",
      "1  2006\n",
      "2  2007\n",
      "3  2008\n",
      "4  2009\n",
      "y:\n",
      " 0    13.807778\n",
      "1    10.889806\n",
      "2    12.219355\n",
      "3    14.312431\n",
      "4    12.916859\n",
      "Name: NO2, dtype: float64\n"
     ]
    }
   ],
   "source": [
    "# Split data into features and target variable\n",
    "X = yearly_kochi_data[['Year']]\n",
    "y = yearly_kochi_data['NO2']\n",
    "\n",
    "print(\"X:\\n\", X.head())\n",
    "print(\"y:\\n\", y.head())"
   ]
  },
  {
   "cell_type": "code",
   "execution_count": 11,
   "metadata": {
    "tags": [
     "remove-input"
    ]
   },
   "outputs": [],
   "source": [
    "# Train Random Forest Regressor with cross-validation\n",
    "rf = RandomForestRegressor(n_estimators=100, random_state=42)\n",
    "y_pred = cross_val_predict(rf, X, y, cv=5)"
   ]
  },
  {
   "cell_type": "code",
   "execution_count": 12,
   "metadata": {
    "tags": [
     "remove-input"
    ]
   },
   "outputs": [
    {
     "data": {
      "image/png": "[encoded data removed]",
      "text/plain": [
       "<Figure size 1200x600 with 1 Axes>"
      ]
     },
     "metadata": {},
     "output_type": "display_data"
    }
   ],
   "source": [
    "# Plot predictions vs actual values\n",
    "plt.figure(figsize=(12, 6))\n",
    "plt.plot(yearly_kochi_data['Year'], y, label='Actual NO2')\n",
    "plt.plot(yearly_kochi_data['Year'], y_pred, label='Predicted NO2', linestyle='--')\n",
    "plt.xlabel('Year')\n",
    "plt.ylabel('NO2 Levels')\n",
    "plt.title('Actual vs Predicted NO2 Levels in Kochi (2005-2015)')\n",
    "plt.legend()\n",
    "plt.grid(True)\n",
    "plt.show()"
   ]
  },
  {
   "cell_type": "markdown",
   "metadata": {},
   "source": [
    "#### Model Performance"
   ]
  },
  {
   "cell_type": "markdown",
   "metadata": {},
   "source": [
    "R<sub>2</sub> is a measure of how well the independent variables explain the variability of the dependent variable. It ranges from 0 to 1 (and can be negative in certain cases). <br>\n",
    "RMSE is the square root of the average of the squared differences between predicted and actual values. It measures the average prediction error in the same units as the dependent variable."
   ]
  },
  {
   "cell_type": "code",
   "execution_count": 13,
   "metadata": {
    "tags": [
     "remove-input"
    ]
   },
   "outputs": [
    {
     "name": "stdout",
     "output_type": "stream",
     "text": [
      "R-squared: -0.13495601528962808\n",
      "RMSE: 2.417655303596738\n"
     ]
    }
   ],
   "source": [
    "# Evaluate the model with R-squared\n",
    "r2 = r2_score(y, y_pred)\n",
    "print(f'R-squared: {r2}')\n",
    "\n",
    "# Evaluate the model with RMSE\n",
    "mse = mean_squared_error(y, y_pred)\n",
    "rmse = np.sqrt(mse)\n",
    "print(f'RMSE: {rmse}')"
   ]
  },
  {
   "cell_type": "markdown",
   "metadata": {},
   "source": [
    "R<sub>2</sub> of -0.13495 indicates that the model if performing worse than the mean of the dependent variable. <br>\n",
    "RMSE of 2.417 indicates that on average, the model's predictions deviate from the actual NO<sub>2</sub> levels by 2.417 units. "
   ]
  },
  {
   "cell_type": "markdown",
   "metadata": {},
   "source": [
    "#### Possible Reasons for Poor Performance\n",
    "1. Dataset is too small, or data is too noisy.\n",
    "2. Model not the best fit.\n",
    "3. Feature (year) might not be sufficient, more features might be helpful.\n",
    "4. Overfitting or Underfitting of data present."
   ]
  },
  {
   "cell_type": "markdown",
   "metadata": {},
   "source": [
    "#### Future work for improvements"
   ]
  },
  {
   "cell_type": "markdown",
   "metadata": {},
   "source": [
    "1. Adding more features to the model (such as weather, traffic data etc.)\n",
    "2. Testing a few more models and compare the results.\n",
    "3. Further data preprocessing.\n",
    "4. Model tuning - experimenting with different hyper parameters for the model."
   ]
  },
  {
   "cell_type": "markdown",
   "metadata": {},
   "source": []
  }
 ],
 "metadata": {
  "kernelspec": {
   "display_name": "data-goods",
   "language": "python",
   "name": "python3"
  },
  "language_info": {
   "codemirror_mode": {
    "name": "ipython",
    "version": 3
   },
   "file_extension": ".py",
   "mimetype": "text/x-python",
   "name": "python",
   "nbconvert_exporter": "python",
   "pygments_lexer": "ipython3",
   "version": "3.10.1"
  }
 },
 "nbformat": 4,
 "nbformat_minor": 2
}
