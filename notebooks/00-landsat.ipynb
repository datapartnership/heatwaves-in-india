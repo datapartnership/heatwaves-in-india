{
 "cells": [
  {
   "cell_type": "markdown",
   "metadata": {},
   "source": [
    "# Land Surface Tempeature in Kochi and Trivandrum\n",
    "\n",
    "Land surface temperature (LST) is defined as how hot the surface would feel to the touch and which cools and warms more quickly than the air above it. In this case, “surface” is the nearest solid on the satellite’s point of view—which can include actual land, concrete, or canopy, for example. Many modern satellites, such as MODIS, from NASA, measure LST. \n",
    "\n",
    "Land Surface Temperature (LST), can be a proxy, albeit not the most accurate one, for relatuve differences in air temperature. While LST indicators cannot be used by themeselves, they allow for a highly granular satellite image which can be used to compare with coarser air temperature readings in a city. Especially for city level governments LST shows the difference in temperature between neighborhoods. This data can also be obtained free of cost. \n",
    "\n",
    "## Data\n",
    "\n",
    "## LANDSAT\n",
    "\n",
    "The data for Land Surface Temperature was taken from extracted using Google Earth Engine, from the [LANDSAT 8 Level 2](https://developers.google.com/earth-engine/datasets/catalog/LANDSAT_LC08_C02_T1_L2) satellite imagery, courtesy of  [U.S. Geological Survey](https://www.usgs.gov/landsat-missions/landsat-collection-2-level-2-science-products). These images contain 5 visible and near-infrared (VNIR) bands and 2 short-wave infrared (SWIR) bands processed to orthorectified surface reflectance, and one thermal infrared (TIR) band processed to orthorectified surface temperature. \n",
    "\n",
    "## High Resolution Population Density Maps\n",
    "\n",
    "The temperature data is overlayed with population data, for elderly population who tend to be more vulnerable to heatwaves. The population statistics are obtained from Meta's [High Resolution Population Density Maps](https://ciesin.columbia.edu/data/hrsl/). \n",
    "\n",
    "In partnership with the Center for International Earth Science Information Network (CIESIN) at Columbia University, Meta uses state-of-the-art computer vision techniques to identify buildings from publicly accessible mapping services to create these population datasets. These maps are available at 30-meter resolution. These maps aren’t built using Facebook data and instead rely on applying machine vision AI to satellite imagery and census information (latest available). \n",
    "\n",
    "## Methodology\n",
    "\n",
    "The LST dataset is best used in conjuction with other data from ERA-5 and any satellite imagery available to the government of Kochi and Trivandrum (i.e., ISRO). In this analysis, we overlayed the LST maps with elderly population aggregated to H3 grids at resolution 9 i.e., 0.105 sq.km. area. \n",
    "\n",
    "## Interactive Heatmap of Kochi\n",
    "\n"
   ]
  },
  {
   "cell_type": "code",
   "execution_count": 54,
   "metadata": {
    "tags": [
     "remove-cell"
    ]
   },
   "outputs": [],
   "source": [
    "import asyncio\n",
    "import json\n",
    "import os\n",
    "from typing import Optional\n",
    "\n",
    "import geopandas\n",
    "import h3\n",
    "import pandas as pd\n",
    "import shapely\n",
    "from aiohttp import ClientSession\n",
    "from shapely.geometry import Polygon"
   ]
  },
  {
   "cell_type": "code",
   "execution_count": 4,
   "metadata": {
    "tags": [
     "remove-cell"
    ]
   },
   "outputs": [],
   "source": [
    "kochi = geopandas.read_file('../data/shapefiles/kochi.shp')\n",
    "trivandrum = geopandas.read_file('../data/shapefiles/trivandrum.shp')"
   ]
  },
  {
   "cell_type": "code",
   "execution_count": 55,
   "metadata": {
    "tags": [
     "remove-cell"
    ]
   },
   "outputs": [],
   "source": [
    "import geopandas\n",
    "def get_h3_tessellation(\n",
    "    gdf: geopandas.GeoDataFrame, name=\"shapeName\", resolution=10\n",
    ") -> geopandas.GeoDataFrame:\n",
    "    mapper = dict()\n",
    "    tiles = set()\n",
    "\n",
    "    # TODO: vectorize, if possible\n",
    "    for idx, row in gdf.iterrows():\n",
    "        geometry = row[\"geometry\"]\n",
    "\n",
    "        match geometry.geom_type:\n",
    "            case \"Polygon\":\n",
    "                hex_ids = h3.polyfill(\n",
    "                    shapely.geometry.mapping(geometry),\n",
    "                    resolution,\n",
    "                    geo_json_conformant=True,\n",
    "                )\n",
    "\n",
    "                tiles = tiles.union(set(hex_ids))\n",
    "                mapper.update([(hex_id, row[name]) for hex_id in hex_ids])\n",
    "\n",
    "            case \"MultiPolygon\":\n",
    "                for x in geometry.geoms:\n",
    "                    hex_ids = h3.polyfill(\n",
    "                        shapely.geometry.mapping(x),\n",
    "                        resolution,\n",
    "                        geo_json_conformant=True,\n",
    "                    )\n",
    "\n",
    "                    tiles = tiles.union(set(hex_ids))\n",
    "                    mapper.update([(hex_id, row[name]) for hex_id in hex_ids])\n",
    "            case _:\n",
    "                raise (Exception)\n",
    "\n",
    "    tessellation = geopandas.GeoDataFrame(\n",
    "        data=tiles,\n",
    "        geometry=[Polygon(h3.h3_to_geo_boundary(idx, True)) for idx in tiles],\n",
    "        columns=[\"hex_id\"],\n",
    "        crs=\"EPSG:4326\",\n",
    "    )\n",
    "\n",
    "    return tessellation"
   ]
  },
  {
   "cell_type": "code",
   "execution_count": 107,
   "metadata": {
    "tags": [
     "remove-cell"
    ]
   },
   "outputs": [],
   "source": [
    "import shapely\n",
    "kochi_h3 = get_h3_tessellation(kochi, name=\"NAME\", resolution=9)\n",
    "kochi_h3.to_file('../data/shapefiles/kochi_h3.shp', format='ESRI Shapefile')"
   ]
  },
  {
   "cell_type": "code",
   "execution_count": 149,
   "metadata": {
    "tags": [
     "remove-cell"
    ]
   },
   "outputs": [],
   "source": [
    "trivandrum_h3 = get_h3_tessellation(trivandrum, name = 'NAME', resolution =9)\n",
    "trivandrum_h3.to_file('../data/shapefiles/trivandrum_h3.shp', format='ESRI Shapefile')"
   ]
  },
  {
   "cell_type": "markdown",
   "metadata": {},
   "source": [
    "<iframe width=\"100%\" height=\"500px\" src=\"https://studio.foursquare.com/map/public/40faf349-0033-4afd-826c-09c62a447443/embed\" frameborder=\"0\" allowfullscreen></iframe>"
   ]
  },
  {
   "cell_type": "markdown",
   "metadata": {},
   "source": [
    "### Observations\n",
    "\n",
    "- It can be seen already that the most densely populated regions of Kochi are the hottest\n",
    "- The river flowing through the middle of the city has the lowest recorded temperature which is in alignment with expectations. \n",
    "- The Edakochi area has multiple hospitals and points of interest which are in relatively hotter parts of the city"
   ]
  },
  {
   "cell_type": "markdown",
   "metadata": {},
   "source": [
    "## Interactive Heatmap of Trivandrum"
   ]
  },
  {
   "cell_type": "markdown",
   "metadata": {},
   "source": [
    "<iframe width=\"100%\" height=\"500px\" src=\"https://studio.foursquare.com/map/public/af2ad727-78e6-4d7f-97ee-de47b23a97de/embed\" frameborder=\"0\" allowfullscreen></iframe>"
   ]
  },
  {
   "cell_type": "markdown",
   "metadata": {},
   "source": [
    "### Observations\n",
    "\n",
    "- It can already be seen that Trivandrum is hotter than Kochi. It could be because there is no waterbody flowing through the city\n",
    "- Although the coastal region of Eanchakkal is one of the hottest, the lederly population seems to be consentrated in Chala and Thampanoor. "
   ]
  },
  {
   "cell_type": "code",
   "execution_count": null,
   "metadata": {},
   "outputs": [],
   "source": []
  }
 ],
 "metadata": {
  "kernelspec": {
   "display_name": "data-goods",
   "language": "python",
   "name": "python3"
  },
  "language_info": {
   "codemirror_mode": {
    "name": "ipython",
    "version": 3
   },
   "file_extension": ".py",
   "mimetype": "text/x-python",
   "name": "python",
   "nbconvert_exporter": "python",
   "pygments_lexer": "ipython3",
   "version": "3.11.9"
  }
 },
 "nbformat": 4,
 "nbformat_minor": 2
}
