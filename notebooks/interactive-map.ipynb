{
 "cells": [
  {
   "cell_type": "markdown",
   "metadata": {},
   "source": [
    "# Interactive Map\n",
    "\n",
    "This interactive map combines multiple datasets - Land Surface Temperature, Schools, Kindergartens, Hospitals, Colleges and Population of elderly people in Cochin and Kerala. \n",
    "\n",
    "## How to use?\n",
    "\n",
    "Zoom in an out of the map as one would on Google Maps to hover over Cochin and Trivandrum. Turn the layers on and off to see the analyses of choice. "
   ]
  },
  {
   "cell_type": "markdown",
   "metadata": {},
   "source": [
    "<iframe width=\"100%\" height=\"500px\" src=\"https://studio.foursquare.com/map/public/40faf349-0033-4afd-826c-09c62a447443/embed\" frameborder=\"0\" allowfullscreen></iframe>"
   ]
  },
  {
   "cell_type": "markdown",
   "metadata": {},
   "source": [
    "## Sample Insights \n",
    "\n",
    "### Cochin \n",
    "\n",
    "- The hospitals in Cochin are concentrated in certain neighborhoods which make them part of similar climate microzones. \n",
    "- The elderly population in the northeastern neighborhoods (Naval Air Station Region) of the city donot have a hospital accessible to them but they live in hot regions. \n",
    "- The School of Naval Airmen is in the warmer parts of Cochin\n",
    "- The schools in the Koovapadam region are also in warmer regions of the city\n",
    "\n",
    "### Trivandrum\n",
    "\n",
    "- Trivandrum, overall, is warmer than Cochin. \n",
    "- There is a concentration of school and hospitals in the central part of the city which is also the hottest region. \n",
    "- The hospitals near the coast are also in warmer regions. However, if the relative humidity in those locations is higher because of proximity to the coast, it is possible that the heat index in these regions is worse and impacts people to a greater level. "
   ]
  },
  {
   "cell_type": "code",
   "execution_count": null,
   "metadata": {},
   "outputs": [],
   "source": []
  }
 ],
 "metadata": {
  "language_info": {
   "name": "python"
  }
 },
 "nbformat": 4,
 "nbformat_minor": 2
}
